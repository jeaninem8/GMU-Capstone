{
 "cells": [
  {
   "cell_type": "code",
   "execution_count": null,
   "id": "841330fc",
   "metadata": {},
   "outputs": [],
   "source": [
    "# Mapping both CALC and BLS data and doing visual comparisons of DC versus non-DC roles"
   ]
  },
  {
   "cell_type": "code",
   "execution_count": null,
   "id": "8890f3c8",
   "metadata": {},
   "outputs": [],
   "source": [
    "import pandas as pd\n",
    "from uszipcode import SearchEngine\n",
    "import math"
   ]
  },
  {
   "cell_type": "code",
   "execution_count": null,
   "id": "a66e02e4",
   "metadata": {},
   "outputs": [],
   "source": [
    "# read in CALC data\n",
    "calc = pd.read_csv(\"/Users/Jeanine/Downloads/CALC_predictive_modeling_withlocation1.csv\", sep = \"|\")"
   ]
  },
  {
   "cell_type": "code",
   "execution_count": null,
   "id": "d4df0065",
   "metadata": {},
   "outputs": [],
   "source": [
    "# zipcode lookup\n",
    "search = SearchEngine(simple_zipcode=True)"
   ]
  },
  {
   "cell_type": "code",
   "execution_count": null,
   "id": "30f8e77b",
   "metadata": {},
   "outputs": [],
   "source": [
    "# create lists for the zipcode information\n",
    "lat_list = []\n",
    "lng_list = []\n",
    "city_list = []\n",
    "state_list = []"
   ]
  },
  {
   "cell_type": "code",
   "execution_count": null,
   "id": "5935e78f",
   "metadata": {},
   "outputs": [],
   "source": [
    "# get lat, long, city, and state for each row\n",
    "z = 0\n",
    "while z < len(calc):\n",
    "    try:\n",
    "        zip_return = search.by_zipcode(str(math.trunc(calc['zipcode'][z])))\n",
    "    except ValueError:\n",
    "        z += 1\n",
    "        lat_list.append(\"\")\n",
    "        lng_list.append(\"\")\n",
    "        city_list.append(\"\")\n",
    "        state_list.append(\"\")\n",
    "    lat_list.append(zip_return.lat)\n",
    "    lng_list.append(zip_return.lng)\n",
    "    city_list.append(zip_return.city)\n",
    "    state_list.append(zip_return.state)\n",
    "    z += 1"
   ]
  },
  {
   "cell_type": "code",
   "execution_count": null,
   "id": "89e0bd0a",
   "metadata": {},
   "outputs": [],
   "source": [
    "# apply the data to the CALC dataset\n",
    "calc['latitude'] = lat_list\n",
    "calc['longitude'] = lng_list\n",
    "calc['city'] = city_list\n",
    "calc['state'] = state_list"
   ]
  },
  {
   "cell_type": "code",
   "execution_count": null,
   "id": "f72509b4",
   "metadata": {},
   "outputs": [],
   "source": [
    "# replace empty values with 0s for processing\n",
    "calc['latitude'].replace(['', 'None'], 0, inplace=True)\n",
    "calc['latitude'] = calc['latitude'].fillna(0)\n",
    "calc['longitude'].replace(['', 'None'], 0, inplace=True)\n",
    "calc['longitude'] = calc['longitude'].fillna(0)\n",
    "calc.head(50)"
   ]
  },
  {
   "cell_type": "code",
   "execution_count": null,
   "id": "ae886ebc",
   "metadata": {},
   "outputs": [],
   "source": [
    "# create list of locations that match bls clustering"
   ]
  },
  {
   "cell_type": "code",
   "execution_count": null,
   "id": "270ae1b9",
   "metadata": {},
   "outputs": [],
   "source": [
    "# read in csv with BLS areas and their zipcode\n",
    "bls_areas = pd.read_csv(\"/Users/Jeanine/Documents/DAEN690/bls_areas.csv\")"
   ]
  },
  {
   "cell_type": "code",
   "execution_count": null,
   "id": "9f884e22",
   "metadata": {},
   "outputs": [],
   "source": [
    "# get lat and long for BLS areas\n",
    "lat_list = []\n",
    "lng_list = []\n",
    "\n",
    "z = 0\n",
    "while z < len(bls_areas):\n",
    "    try:\n",
    "        zip_return = search.by_zipcode(str(bls_areas['zipcode'][z]))\n",
    "    except ValueError:\n",
    "        z += 1\n",
    "        lat_list.append(\"\")\n",
    "        lng_list.append(\"\")\n",
    "    lat_list.append(zip_return.lat)\n",
    "    lng_list.append(zip_return.lng)\n",
    "    z += 1\n",
    "\n",
    "bls_areas['latitude'] = lat_list\n",
    "bls_areas['longitude'] = lng_list"
   ]
  },
  {
   "cell_type": "code",
   "execution_count": null,
   "id": "0eb33d63",
   "metadata": {},
   "outputs": [],
   "source": [
    "bls_areas"
   ]
  },
  {
   "cell_type": "code",
   "execution_count": null,
   "id": "995d01e7",
   "metadata": {},
   "outputs": [],
   "source": [
    "# calculate the distance between two locations\n",
    "from math import radians, cos, sin, asin, sqrt\n",
    "def dist(lat1, long1, lat2, long2):\n",
    "    # convert decimal degrees to radians \n",
    "    lat1, long1, lat2, long2 = map(radians, [lat1, long1, lat2, long2])\n",
    "    # haversine formula \n",
    "    dlon = long2 - long1 \n",
    "    dlat = lat2 - lat1 \n",
    "    a = sin(dlat/2)**2 + cos(lat1) * cos(lat2) * sin(dlon/2)**2\n",
    "    c = 2 * asin(sqrt(a)) \n",
    "    # radius of earth in kilometers is 6371\n",
    "    km = 6371* c\n",
    "    return km"
   ]
  },
  {
   "cell_type": "code",
   "execution_count": null,
   "id": "9290e1c8",
   "metadata": {},
   "outputs": [],
   "source": [
    "# determine shortest distance\n",
    "def find_nearest(lat, long):\n",
    "    distances = bls_areas.apply(\n",
    "        lambda row: dist(lat, long, row['latitude'], row['longitude']), \n",
    "        axis=1)\n",
    "    return bls_areas.loc[distances.idxmin(), 'region']"
   ]
  },
  {
   "cell_type": "code",
   "execution_count": null,
   "id": "2239fdfc",
   "metadata": {},
   "outputs": [],
   "source": [
    "# add nearest BLS location to each CALC row\n",
    "calc['nearest_loc'] = calc.apply(\n",
    "    lambda row: find_nearest(row['latitude'], row['longitude']), \n",
    "    axis=1)"
   ]
  },
  {
   "cell_type": "code",
   "execution_count": null,
   "id": "b5a4a9b5",
   "metadata": {},
   "outputs": [],
   "source": [
    "# export CALC location date\n",
    "calc.to_csv(\"/Users/Jeanine/Documents/DAEN690/calc_scrape_w_locbins.csv\", sep = \"|\")"
   ]
  },
  {
   "cell_type": "code",
   "execution_count": null,
   "id": "4ab5ec08",
   "metadata": {},
   "outputs": [],
   "source": [
    "# create df with the occurrences of each state in CALC dataset\n",
    "from collections import Counter\n",
    "state_ct = Counter(calc['state'])\n",
    "dfstate = pd.DataFrame.from_dict(state_ct, orient='index').reset_index()"
   ]
  },
  {
   "cell_type": "code",
   "execution_count": null,
   "id": "cc346ce8",
   "metadata": {},
   "outputs": [],
   "source": [
    "# rename the columns\n",
    "dfstate = dfstate.rename(columns={\"index\": \"state\", 0: \"count\"})"
   ]
  },
  {
   "cell_type": "code",
   "execution_count": null,
   "id": "c0d08c5f",
   "metadata": {},
   "outputs": [],
   "source": [
    "# get the FIPS value for each state\n",
    "df_sample = pd.read_csv('https://raw.githubusercontent.com/plotly/datasets/master/laucnty16.csv')"
   ]
  },
  {
   "cell_type": "code",
   "execution_count": null,
   "id": "669feb19",
   "metadata": {},
   "outputs": [],
   "source": [
    "# get only the state code from FIPS dataset\n",
    "dfsampsplit = []\n",
    "s = 0\n",
    "while s < len(df_sample):\n",
    "    dfsampsplit.append(df_sample['County Name/State Abbreviation'][s].split(\", \")[-1])\n",
    "    s+=1\n",
    "df_sample['state'] = dfsampsplit\n",
    "dic = {'District of Columbia': 'DC'}\n",
    "df_sample = df_sample.replace(dic)"
   ]
  },
  {
   "cell_type": "code",
   "execution_count": null,
   "id": "1356ab0a",
   "metadata": {},
   "outputs": [],
   "source": [
    "# create a df of just the state codes and FIPS based on above result\n",
    "(df_sample['state'].append(df_sample['State FIPS Code'])).unique()\n",
    "data = {'state':['AL', 'AK', 'AZ', 'AR', 'CA', 'CO', 'CT', 'DE', 'DC', 'FL', 'GA',\n",
    "       'HI', 'ID', 'IL', 'IN', 'IA', 'KS', 'KY', 'LA', 'ME', 'MD', 'MA',\n",
    "       'MI', 'MN', 'MS', 'MO', 'MT', 'NE', 'NV', 'NH', 'NJ', 'NM', 'NY',\n",
    "       'NC', 'ND', 'OH', 'OK', 'OR', 'PA', 'RI', 'SC', 'SD', 'TN', 'TX',\n",
    "       'UT', 'VT', 'VA', 'WA', 'WV', 'WI', 'WY', 'PR'],\n",
    "        'fips':[1, 2, 4, 5, 6, 8,\n",
    "       9, 10, 11, 12, 13, 15, 16, 17, 18, 19, 20, 21, 22, 23, 24, 25, 26,\n",
    "       27, 28, 29, 30, 31, 32, 33, 34, 35, 36, 37, 38, 39, 40, 41, 42, 44,\n",
    "       45, 46, 47, 48, 49, 50, 51, 53, 54, 55, 56, 72]}\n",
    "statefips = pd.DataFrame(data)"
   ]
  },
  {
   "cell_type": "code",
   "execution_count": null,
   "id": "c456abcd",
   "metadata": {},
   "outputs": [],
   "source": [
    "# merge with the CALC counts\n",
    "dfstate = dfstate.merge(statefips, how='left', on='state')"
   ]
  },
  {
   "cell_type": "code",
   "execution_count": null,
   "id": "47233f72",
   "metadata": {},
   "outputs": [],
   "source": [
    "# remove blanks and NA counts\n",
    "dfstate = dfstate.drop(dfstate.index[[4, 18]])"
   ]
  },
  {
   "cell_type": "code",
   "execution_count": null,
   "id": "ec67ded6",
   "metadata": {},
   "outputs": [],
   "source": [
    "dfstate['count'] = pd.to_numeric(dfstate['count'])"
   ]
  },
  {
   "cell_type": "code",
   "execution_count": null,
   "id": "2a440f3b",
   "metadata": {},
   "outputs": [],
   "source": [
    "# plot state counts from CALC data\n",
    "import plotly.express as px\n",
    "\n",
    "fig = px.choropleth(dfstate, locations=\"state\", color=\"count\", \n",
    "                    locationmode=\"USA-states\",\n",
    "                    scope=\"usa\",\n",
    "                    color_continuous_scale=px.colors.sequential.Sunsetdark,\n",
    "                    range_color=(0,dfstate['count'].max()),\n",
    "                    title=\"GSA CALC Contracts by State\")\n",
    "fig.update_layout(coloraxis_colorbar=dict(\n",
    "    title=\"Total Number of Contracts\",\n",
    "    thicknessmode=\"pixels\", thickness=50,\n",
    "    lenmode=\"pixels\", len=350,\n",
    "    yanchor=\"top\", y=1,\n",
    "    ticks=\"outside\"\n",
    "))\n",
    "fig.show()"
   ]
  },
  {
   "cell_type": "code",
   "execution_count": null,
   "id": "99727618",
   "metadata": {},
   "outputs": [],
   "source": [
    "# determine if job is in the DC region\n",
    "is_dc_bin = []\n",
    "\n",
    "x = 0\n",
    "while x < len(calc):\n",
    "    if calc['nearest_loc'][x] == 'Washington-Arlington-Alexandria, DC-VA-MD-WV Metropolitan Division':\n",
    "        is_dc_bin.append(1)\n",
    "    else:\n",
    "        is_dc_bin.append(0)\n",
    "    x += 1\n",
    "    \n",
    "calc['is_dc_bin'] = is_dc_bin \n",
    "    "
   ]
  },
  {
   "cell_type": "code",
   "execution_count": null,
   "id": "2876b25d",
   "metadata": {},
   "outputs": [],
   "source": [
    "calc"
   ]
  },
  {
   "cell_type": "code",
   "execution_count": null,
   "id": "4d5790eb",
   "metadata": {},
   "outputs": [],
   "source": [
    "# get two separate datasets based on location\n",
    "data_a = calc[calc[\"is_dc_bin\"] == 1]\n",
    "data_b = calc[calc[\"is_dc_bin\"] == 0]\n",
    "\n",
    "data_a = data_a.rename(columns = {\"c_current_year\":\"Current Year\",\"c_next_year\":\"Next Year\",\"c_second_year\":\"Year After Next\"})\n",
    "data_b = data_b.rename(columns = {\"c_current_year\":\"Current Year\",\"c_next_year\":\"Next Year\",\"c_second_year\":\"Year After Next\"})"
   ]
  },
  {
   "cell_type": "code",
   "execution_count": null,
   "id": "0b64f263",
   "metadata": {},
   "outputs": [],
   "source": [
    "# data transformation in order to generate boxplot\n",
    "data_a = pd.melt(data_a, id_vars=['c_row_id'], value_vars=['Current Year', 'Next Year', 'Year After Next'])\n",
    "data_b = pd.melt(data_b, id_vars=['c_row_id'], value_vars=['Current Year', 'Next Year', 'Year After Next'])"
   ]
  },
  {
   "cell_type": "code",
   "execution_count": null,
   "id": "25ad7e8f",
   "metadata": {},
   "outputs": [],
   "source": [
    "data_a"
   ]
  },
  {
   "cell_type": "code",
   "execution_count": null,
   "id": "cedacfb6",
   "metadata": {},
   "outputs": [],
   "source": [
    "# create boxplot for both regions of interest and over the three year period\n",
    "import plotly.graph_objects as go\n",
    "\n",
    "fig = go.Figure()\n",
    "\n",
    "fig.add_trace(go.Box(\n",
    "    x=data_a['value'],\n",
    "    y=data_a['variable'],\n",
    "    name='DC',\n",
    "    marker_color='#701c62'\n",
    "))\n",
    "fig.add_trace(go.Box(\n",
    "    x=data_b['value'],\n",
    "    y=data_b['variable'],\n",
    "    name='Non-DC',\n",
    "    marker_color='#e75d64'\n",
    "))\n",
    "\n",
    "\n",
    "fig.update_layout(\n",
    "    title='Hourly Rate of Washington, D.C. Region Contracts versus Rest of U.S.',\n",
    "    xaxis_title='Hourly Rate ($)',\n",
    "    boxmode='group', # group together boxes of the different traces for each value of x\n",
    "    width=1000,\n",
    "    height=500,\n",
    "    template='plotly_white'\n",
    ")\n",
    "fig.update_traces(orientation='h')\n",
    "fig.show()"
   ]
  },
  {
   "cell_type": "code",
   "execution_count": null,
   "id": "c578a4e9",
   "metadata": {},
   "outputs": [],
   "source": [
    "# BLS DATA"
   ]
  },
  {
   "cell_type": "code",
   "execution_count": null,
   "id": "b009cbaa",
   "metadata": {},
   "outputs": [],
   "source": [
    "# read in BLS data\n",
    "bls = pd.read_excel('/Users/Jeanine/Downloads/tblFinal.xlsx')"
   ]
  },
  {
   "cell_type": "code",
   "execution_count": null,
   "id": "ee68a98e",
   "metadata": {},
   "outputs": [],
   "source": [
    "bls"
   ]
  },
  {
   "cell_type": "code",
   "execution_count": null,
   "id": "da4a28c5",
   "metadata": {},
   "outputs": [],
   "source": [
    "# count the occurrences of jobs within each state\n",
    "state_bls_ct = Counter(bls['State_Code'])\n",
    "dfstate_bls = pd.DataFrame.from_dict(state_bls_ct, orient='index').reset_index()"
   ]
  },
  {
   "cell_type": "code",
   "execution_count": null,
   "id": "c06f4ca0",
   "metadata": {},
   "outputs": [],
   "source": [
    "# drop the row for no state and rename columns\n",
    "dfstate_bls = dfstate_bls.drop(dfstate_bls.index[[4]])\n",
    "dfstate_bls = dfstate_bls.rename(columns={\"index\": \"fips\", 0: \"count\"})"
   ]
  },
  {
   "cell_type": "code",
   "execution_count": null,
   "id": "e1174301",
   "metadata": {},
   "outputs": [],
   "source": [
    "dfstate_bls['count'] = pd.to_numeric(dfstate_bls['count'])"
   ]
  },
  {
   "cell_type": "code",
   "execution_count": null,
   "id": "04f60b3b",
   "metadata": {},
   "outputs": [],
   "source": [
    "# merge with dataset that knows the state codes\n",
    "dfstate_bls = dfstate_bls.merge(statefips, how='left', on='fips')"
   ]
  },
  {
   "cell_type": "code",
   "execution_count": null,
   "id": "21f69eb5",
   "metadata": {},
   "outputs": [],
   "source": [
    "# plot state counts from CALC data\n",
    "import plotly.express as px\n",
    "\n",
    "fig = px.choropleth(dfstate_bls, locations=\"state\", color=\"count\", \n",
    "                    locationmode=\"USA-states\",\n",
    "                    scope=\"usa\",\n",
    "                    color_continuous_scale=px.colors.sequential.Sunsetdark,\n",
    "                    range_color=(0,dfstate_bls['count'].max()),\n",
    "                    title=\"National Compensation Survey Occupations by State\")\n",
    "fig.update_layout(coloraxis_colorbar=dict(\n",
    "    title=\"Total Number of Jobs\",\n",
    "    thicknessmode=\"pixels\", thickness=50,\n",
    "    lenmode=\"pixels\", len=350,\n",
    "    yanchor=\"top\", y=1,\n",
    "    ticks=\"outside\"\n",
    "))\n",
    "fig.show()"
   ]
  },
  {
   "cell_type": "code",
   "execution_count": null,
   "id": "3a2a97f6",
   "metadata": {},
   "outputs": [],
   "source": [
    "# read in BLS data with the salary information\n",
    "final = pd.read_csv('/Users/Jeanine/Downloads/BLS_Extract_2016_2020 (1).txt', \n",
    "                 sep = '|',encoding='unicode_escape', dtype='unicode',\n",
    "                 index_col=False)"
   ]
  },
  {
   "cell_type": "code",
   "execution_count": null,
   "id": "f6e7e3d7",
   "metadata": {},
   "outputs": [],
   "source": [
    "# determine if data is in DC region\n",
    "is_dc_bin = []\n",
    "\n",
    "x = 0\n",
    "while x < len(final):\n",
    "    if final['area_title'][x] == 'Washington-Arlington-Alexandria, DC-VA-MD-WV Metropolitan Division':\n",
    "        is_dc_bin.append(1)\n",
    "    else:\n",
    "        is_dc_bin.append(0)\n",
    "    x += 1\n",
    "    \n",
    "final['is_dc_bin'] = is_dc_bin "
   ]
  },
  {
   "cell_type": "code",
   "execution_count": null,
   "id": "0bb2a6f6",
   "metadata": {},
   "outputs": [],
   "source": [
    "# remove odd characters from salary and hourly columns\n",
    "final = final[final['h_median'] != '*']\n",
    "final = final[final['h_median'] != '#']\n",
    "final['h_median'] = pd.to_numeric(final['h_median'])\n",
    "final['a_median'] = final['a_median'].replace(',','', regex=True)\n",
    "final['a_median'] = pd.to_numeric(final['a_median'])"
   ]
  },
  {
   "cell_type": "code",
   "execution_count": null,
   "id": "a8e4bda6",
   "metadata": {},
   "outputs": [],
   "source": [
    "# split datasets based on DC area\n",
    "final_a = final[final[\"is_dc_bin\"] == 1]\n",
    "final_b = final[final[\"is_dc_bin\"] == 0]"
   ]
  },
  {
   "cell_type": "code",
   "execution_count": null,
   "id": "9bafb925",
   "metadata": {},
   "outputs": [],
   "source": [
    "# create histogram of median salary distributions for the DC area as well as a line to indicate the \"mean\"\n",
    "import statistics\n",
    "fig = px.histogram(final_a, x=\"a_median\", title='Distribution of Median Salaries in the Washington, D.C. Area',\n",
    "                  template=\"simple_white\", color_discrete_sequence = ['#701c62'],\n",
    "                  labels = {'a_median':'Median Salary'})\n",
    "fig.update_yaxes(title='Count')\n",
    "fig.add_vline(x=statistics.mean(final_a['a_median']), line_width=3, line_dash=\"dash\", line_color=\"#e75d64\")\n",
    "fig.show()"
   ]
  },
  {
   "cell_type": "code",
   "execution_count": null,
   "id": "0990f1a6",
   "metadata": {},
   "outputs": [],
   "source": [
    "# create histogram of median salary distributions for outside of DC area as well as a line to indicate the \"mean\"\n",
    "fig = px.histogram(final_b, x=\"a_median\", title='Distribution of Median Salaries Outside of the Washington, D.C. Area',\n",
    "                  template=\"simple_white\", color_discrete_sequence=['#e75d64'],\n",
    "                  labels = {'a_median':'Median Salary'})\n",
    "fig.update_yaxes(title='Count')\n",
    "fig.add_vline(x=statistics.mean(final_b['a_median']), line_width=3, line_dash=\"dash\", line_color=\"#701c62\")\n",
    "fig.show()"
   ]
  }
 ],
 "metadata": {
  "kernelspec": {
   "display_name": "Python 3",
   "language": "python",
   "name": "python3"
  },
  "language_info": {
   "codemirror_mode": {
    "name": "ipython",
    "version": 3
   },
   "file_extension": ".py",
   "mimetype": "text/x-python",
   "name": "python",
   "nbconvert_exporter": "python",
   "pygments_lexer": "ipython3",
   "version": "3.8.10"
  }
 },
 "nbformat": 4,
 "nbformat_minor": 5
}
